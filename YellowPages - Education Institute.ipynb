{
 "cells": [
  {
   "cell_type": "code",
   "execution_count": 1,
   "id": "588b6568-96d0-461e-aea9-3d2e74476b86",
   "metadata": {},
   "outputs": [
    {
     "name": "stdout",
     "output_type": "stream",
     "text": [
      "Scraping and data extraction completed.\n"
     ]
    }
   ],
   "source": [
    "import requests\n",
    "from bs4 import BeautifulSoup\n",
    "import pandas as pd\n",
    "\n",
    "# URL of the target page\n",
    "url = \"http://yellowpages.in/hyderabad/education/421330778\"\n",
    "\n",
    "# Send an HTTP GET request to the URL\n",
    "response = requests.get(url)\n",
    "\n",
    "# Parse the HTML content using Beautiful Soup\n",
    "soup = BeautifulSoup(response.content, \"html.parser\")\n",
    "\n",
    "# Find all the listings for educational institutions\n",
    "listings = soup.find_all(\"div\", class_=\"eachPopularTitleBlock\")\n",
    "\n",
    "# Create lists to store extracted data\n",
    "names = []\n",
    "reviews = []\n",
    "timings = []\n",
    "descs = []\n",
    "\n",
    "# Loop through each listing and extract relevant information\n",
    "for listing in listings:\n",
    "    name = listing.find(\"div\", class_=\"popularTitleTextBlock\").text.strip()\n",
    "    review = listing.find(\"div\", class_=\"rating r2-0\")\n",
    "    review = listing.find(\"a\" , class_=\"ratingCount\").text.strip()\n",
    "\n",
    "    timing = listing.find(\"div\", class_=\"openNow\")\n",
    "    timing = timing.find(\"strong\").text.strip()\n",
    "\n",
    "    desc = listing.find(\"ul\", class_=\"eachPopularTagsList\")\n",
    "    desc = desc.find(\"li\").text.strip()\n",
    "\n",
    "\n",
    "    \n",
    "    names.append(name)\n",
    "    reviews.append(review)\n",
    "    timings.append(timing)\n",
    "    descs.append(desc)\n",
    "\n",
    "# Create a DataFrame using Pandas\n",
    "data = {\n",
    "    \"Name\": names,\n",
    "    \"Review\": reviews,\n",
    "    \"Timings\":timings,\n",
    "    \"Description\":descs\n",
    "}\n",
    "df = pd.DataFrame(data)\n",
    "\n",
    "# Save the DataFrame to a CSV file\n",
    "df.to_csv(\"education_institutions.csv\", index=False)\n",
    "\n",
    "print(\"Scraping and data extraction completed.\")\n"
   ]
  },
  {
   "cell_type": "code",
   "execution_count": null,
   "id": "9e9683cf-6a66-4989-8d6d-09320f7cb2cb",
   "metadata": {},
   "outputs": [],
   "source": []
  },
  {
   "cell_type": "code",
   "execution_count": null,
   "id": "f3320661-d7d4-4e3e-bad9-699a33b928b9",
   "metadata": {},
   "outputs": [],
   "source": []
  },
  {
   "cell_type": "code",
   "execution_count": null,
   "id": "a2bf4b22-01b2-4467-8eb2-f7cc0bde3a05",
   "metadata": {},
   "outputs": [],
   "source": []
  },
  {
   "cell_type": "code",
   "execution_count": null,
   "id": "15cba8dd-d464-44b7-81e0-eff4d6715aba",
   "metadata": {},
   "outputs": [],
   "source": []
  },
  {
   "cell_type": "code",
   "execution_count": null,
   "id": "0e535ba2-5dad-4332-889d-c65b7865e485",
   "metadata": {},
   "outputs": [],
   "source": []
  },
  {
   "cell_type": "code",
   "execution_count": null,
   "id": "ff7ab4d6-1fd2-44e9-87c4-193cf946dfb8",
   "metadata": {},
   "outputs": [],
   "source": []
  },
  {
   "cell_type": "code",
   "execution_count": null,
   "id": "b272ff0b-afdd-4e2a-92e9-349f5ced056c",
   "metadata": {},
   "outputs": [],
   "source": []
  }
 ],
 "metadata": {
  "kernelspec": {
   "display_name": "Python 3 (ipykernel)",
   "language": "python",
   "name": "python3"
  },
  "language_info": {
   "codemirror_mode": {
    "name": "ipython",
    "version": 3
   },
   "file_extension": ".py",
   "mimetype": "text/x-python",
   "name": "python",
   "nbconvert_exporter": "python",
   "pygments_lexer": "ipython3",
   "version": "3.11.4"
  }
 },
 "nbformat": 4,
 "nbformat_minor": 5
}
